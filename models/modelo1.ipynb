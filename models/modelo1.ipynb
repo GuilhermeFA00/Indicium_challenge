{
  "nbformat": 4,
  "nbformat_minor": 0,
  "metadata": {
    "colab": {
      "provenance": []
    },
    "kernelspec": {
      "name": "python3",
      "display_name": "Python 3"
    },
    "language_info": {
      "name": "python"
    }
  },
  "cells": [
    {
      "cell_type": "markdown",
      "source": [
        "--Guilherme Frutuoso de Almeida--\n",
        "\n",
        "guilhermefa@alu.ufc.br"
      ],
      "metadata": {
        "id": "E2Rd-V9Qx2L2"
      }
    },
    {
      "cell_type": "markdown",
      "source": [
        "#Esse documento colab refere-se ao primeiro modelo preditivo do desafio CIENTISTA DE DADOS"
      ],
      "metadata": {
        "id": "LSCReT45x3zq"
      }
    },
    {
      "cell_type": "markdown",
      "source": [
        "## O primeiro modelo será uma Árvore de Decisão para a tarefa classificação"
      ],
      "metadata": {
        "id": "QL3urqu-0kx4"
      }
    },
    {
      "cell_type": "code",
      "source": [
        "import pandas as pd\n",
        "import numpy as np\n",
        "import math\n",
        "import matplotlib.pyplot as plt"
      ],
      "metadata": {
        "id": "7wKnriL1sFJl"
      },
      "execution_count": 1,
      "outputs": []
    },
    {
      "cell_type": "code",
      "source": [
        "df_train = pd.read_csv(\"desafio_manutencao_preditiva_treino.csv\")\n",
        "dummies = pd.get_dummies(df_train[\"failure_type\"])\n",
        "df_train = df_train.drop(\"failure_type\", axis='columns')\n",
        "df_train = pd.concat([df_train, dummies], axis='columns')\n",
        "df_train.head()\n",
        "\n",
        "df_test = pd.read_csv(\"desafio_manutencao_preditiva_teste.csv\")\n",
        "df_test.head()"
      ],
      "metadata": {
        "id": "KCmK1_a85fP8",
        "colab": {
          "base_uri": "https://localhost:8080/",
          "height": 250
        },
        "outputId": "d9047bb8-fdbb-4c53-aac6-de44d5e5e1fa"
      },
      "execution_count": 70,
      "outputs": [
        {
          "output_type": "execute_result",
          "data": {
            "text/plain": [
              "    udi product_id type  air_temperature_k  process_temperature_k  \\\n",
              "0   446     L47625    L              297.5                  308.6   \n",
              "1  7076     L54255    L              300.7                  310.5   \n",
              "2  1191     L48370    L              297.2                  308.4   \n",
              "3  2618     L49797    L              299.4                  309.1   \n",
              "4  5067     L52246    L              304.1                  313.1   \n",
              "\n",
              "   rotational_speed_rpm  torque_nm  tool_wear_min  \n",
              "0                  1793       26.7             70  \n",
              "1                  1536       47.4            192  \n",
              "2                  1460       42.1             41  \n",
              "3                  1670       35.9             68  \n",
              "4                  1550       30.9              9  "
            ],
            "text/html": [
              "\n",
              "  <div id=\"df-3620b0db-f143-4f90-9a95-fc09db2b4c8a\">\n",
              "    <div class=\"colab-df-container\">\n",
              "      <div>\n",
              "<style scoped>\n",
              "    .dataframe tbody tr th:only-of-type {\n",
              "        vertical-align: middle;\n",
              "    }\n",
              "\n",
              "    .dataframe tbody tr th {\n",
              "        vertical-align: top;\n",
              "    }\n",
              "\n",
              "    .dataframe thead th {\n",
              "        text-align: right;\n",
              "    }\n",
              "</style>\n",
              "<table border=\"1\" class=\"dataframe\">\n",
              "  <thead>\n",
              "    <tr style=\"text-align: right;\">\n",
              "      <th></th>\n",
              "      <th>udi</th>\n",
              "      <th>product_id</th>\n",
              "      <th>type</th>\n",
              "      <th>air_temperature_k</th>\n",
              "      <th>process_temperature_k</th>\n",
              "      <th>rotational_speed_rpm</th>\n",
              "      <th>torque_nm</th>\n",
              "      <th>tool_wear_min</th>\n",
              "    </tr>\n",
              "  </thead>\n",
              "  <tbody>\n",
              "    <tr>\n",
              "      <th>0</th>\n",
              "      <td>446</td>\n",
              "      <td>L47625</td>\n",
              "      <td>L</td>\n",
              "      <td>297.5</td>\n",
              "      <td>308.6</td>\n",
              "      <td>1793</td>\n",
              "      <td>26.7</td>\n",
              "      <td>70</td>\n",
              "    </tr>\n",
              "    <tr>\n",
              "      <th>1</th>\n",
              "      <td>7076</td>\n",
              "      <td>L54255</td>\n",
              "      <td>L</td>\n",
              "      <td>300.7</td>\n",
              "      <td>310.5</td>\n",
              "      <td>1536</td>\n",
              "      <td>47.4</td>\n",
              "      <td>192</td>\n",
              "    </tr>\n",
              "    <tr>\n",
              "      <th>2</th>\n",
              "      <td>1191</td>\n",
              "      <td>L48370</td>\n",
              "      <td>L</td>\n",
              "      <td>297.2</td>\n",
              "      <td>308.4</td>\n",
              "      <td>1460</td>\n",
              "      <td>42.1</td>\n",
              "      <td>41</td>\n",
              "    </tr>\n",
              "    <tr>\n",
              "      <th>3</th>\n",
              "      <td>2618</td>\n",
              "      <td>L49797</td>\n",
              "      <td>L</td>\n",
              "      <td>299.4</td>\n",
              "      <td>309.1</td>\n",
              "      <td>1670</td>\n",
              "      <td>35.9</td>\n",
              "      <td>68</td>\n",
              "    </tr>\n",
              "    <tr>\n",
              "      <th>4</th>\n",
              "      <td>5067</td>\n",
              "      <td>L52246</td>\n",
              "      <td>L</td>\n",
              "      <td>304.1</td>\n",
              "      <td>313.1</td>\n",
              "      <td>1550</td>\n",
              "      <td>30.9</td>\n",
              "      <td>9</td>\n",
              "    </tr>\n",
              "  </tbody>\n",
              "</table>\n",
              "</div>\n",
              "      <button class=\"colab-df-convert\" onclick=\"convertToInteractive('df-3620b0db-f143-4f90-9a95-fc09db2b4c8a')\"\n",
              "              title=\"Convert this dataframe to an interactive table.\"\n",
              "              style=\"display:none;\">\n",
              "        \n",
              "  <svg xmlns=\"http://www.w3.org/2000/svg\" height=\"24px\"viewBox=\"0 0 24 24\"\n",
              "       width=\"24px\">\n",
              "    <path d=\"M0 0h24v24H0V0z\" fill=\"none\"/>\n",
              "    <path d=\"M18.56 5.44l.94 2.06.94-2.06 2.06-.94-2.06-.94-.94-2.06-.94 2.06-2.06.94zm-11 1L8.5 8.5l.94-2.06 2.06-.94-2.06-.94L8.5 2.5l-.94 2.06-2.06.94zm10 10l.94 2.06.94-2.06 2.06-.94-2.06-.94-.94-2.06-.94 2.06-2.06.94z\"/><path d=\"M17.41 7.96l-1.37-1.37c-.4-.4-.92-.59-1.43-.59-.52 0-1.04.2-1.43.59L10.3 9.45l-7.72 7.72c-.78.78-.78 2.05 0 2.83L4 21.41c.39.39.9.59 1.41.59.51 0 1.02-.2 1.41-.59l7.78-7.78 2.81-2.81c.8-.78.8-2.07 0-2.86zM5.41 20L4 18.59l7.72-7.72 1.47 1.35L5.41 20z\"/>\n",
              "  </svg>\n",
              "      </button>\n",
              "      \n",
              "  <style>\n",
              "    .colab-df-container {\n",
              "      display:flex;\n",
              "      flex-wrap:wrap;\n",
              "      gap: 12px;\n",
              "    }\n",
              "\n",
              "    .colab-df-convert {\n",
              "      background-color: #E8F0FE;\n",
              "      border: none;\n",
              "      border-radius: 50%;\n",
              "      cursor: pointer;\n",
              "      display: none;\n",
              "      fill: #1967D2;\n",
              "      height: 32px;\n",
              "      padding: 0 0 0 0;\n",
              "      width: 32px;\n",
              "    }\n",
              "\n",
              "    .colab-df-convert:hover {\n",
              "      background-color: #E2EBFA;\n",
              "      box-shadow: 0px 1px 2px rgba(60, 64, 67, 0.3), 0px 1px 3px 1px rgba(60, 64, 67, 0.15);\n",
              "      fill: #174EA6;\n",
              "    }\n",
              "\n",
              "    [theme=dark] .colab-df-convert {\n",
              "      background-color: #3B4455;\n",
              "      fill: #D2E3FC;\n",
              "    }\n",
              "\n",
              "    [theme=dark] .colab-df-convert:hover {\n",
              "      background-color: #434B5C;\n",
              "      box-shadow: 0px 1px 3px 1px rgba(0, 0, 0, 0.15);\n",
              "      filter: drop-shadow(0px 1px 2px rgba(0, 0, 0, 0.3));\n",
              "      fill: #FFFFFF;\n",
              "    }\n",
              "  </style>\n",
              "\n",
              "      <script>\n",
              "        const buttonEl =\n",
              "          document.querySelector('#df-3620b0db-f143-4f90-9a95-fc09db2b4c8a button.colab-df-convert');\n",
              "        buttonEl.style.display =\n",
              "          google.colab.kernel.accessAllowed ? 'block' : 'none';\n",
              "\n",
              "        async function convertToInteractive(key) {\n",
              "          const element = document.querySelector('#df-3620b0db-f143-4f90-9a95-fc09db2b4c8a');\n",
              "          const dataTable =\n",
              "            await google.colab.kernel.invokeFunction('convertToInteractive',\n",
              "                                                     [key], {});\n",
              "          if (!dataTable) return;\n",
              "\n",
              "          const docLinkHtml = 'Like what you see? Visit the ' +\n",
              "            '<a target=\"_blank\" href=https://colab.research.google.com/notebooks/data_table.ipynb>data table notebook</a>'\n",
              "            + ' to learn more about interactive tables.';\n",
              "          element.innerHTML = '';\n",
              "          dataTable['output_type'] = 'display_data';\n",
              "          await google.colab.output.renderOutput(dataTable, element);\n",
              "          const docLink = document.createElement('div');\n",
              "          docLink.innerHTML = docLinkHtml;\n",
              "          element.appendChild(docLink);\n",
              "        }\n",
              "      </script>\n",
              "    </div>\n",
              "  </div>\n",
              "  "
            ]
          },
          "metadata": {},
          "execution_count": 70
        }
      ]
    },
    {
      "cell_type": "markdown",
      "source": [
        "Pré-processamento dos dados"
      ],
      "metadata": {
        "id": "wP7xFvzpyVOm"
      }
    },
    {
      "cell_type": "code",
      "execution_count": 80,
      "metadata": {
        "id": "qoAWfCvsa_oF"
      },
      "outputs": [],
      "source": [
        "def data_prep(data_loc, test_or_train):\n",
        "    raw_data = pd.read_csv(data_loc)\n",
        "\n",
        "    if test_or_train == 0:\n",
        "      dummies = pd.get_dummies(raw_data[\"failure_type\"])\n",
        "      raw_data = raw_data.drop(\"failure_type\", axis='columns')\n",
        "      merged = pd.concat([raw_data, dummies], axis='columns')\n",
        "      merged = merged.to_numpy()\n",
        "      np.random.shuffle(merged)\n",
        "\n",
        "      x = merged[:, 3:8]\n",
        "      y = merged[:, 8:]\n",
        "\n",
        "      return(x, y)\n",
        "    else:\n",
        "      raw_data = raw_data.to_numpy()\n",
        "      x = raw_data[:, 3:8]\n",
        "      return x"
      ]
    },
    {
      "cell_type": "code",
      "source": [
        "x_train, y_train = data_prep(\"desafio_manutencao_preditiva_treino.csv\", 0)\n",
        "x_test = data_prep(\"desafio_manutencao_preditiva_teste.csv\", 1)\n",
        "\n",
        "x_train = x_train.astype('int')\n",
        "y_train = y_train.astype('int')\n",
        "x_test = x_test.astype('int')\n",
        "\n",
        "from sklearn.utils.multiclass import type_of_target\n",
        "type_of_target(y_train)\n",
        "\n",
        "class_labels = np.argmax(y_train, axis=1)\n",
        "print(class_labels)"
      ],
      "metadata": {
        "id": "NnB1fQZWs1_1",
        "colab": {
          "base_uri": "https://localhost:8080/"
        },
        "outputId": "e40fdef9-2ebf-4045-8477-cb494323fca7"
      },
      "execution_count": 81,
      "outputs": [
        {
          "output_type": "stream",
          "name": "stdout",
          "text": [
            "[1 1 1 ... 1 1 1]\n"
          ]
        }
      ]
    },
    {
      "cell_type": "markdown",
      "source": [
        "Definição de uma função para avaliar a acurácia e o erro quadrado médio do modelo "
      ],
      "metadata": {
        "id": "OBsraX7Iyr97"
      }
    },
    {
      "cell_type": "code",
      "source": [
        "def clf_compute_metrics(clf, subsets):\n",
        "    from sklearn.metrics import accuracy_score\n",
        "    from sklearn.metrics import mean_squared_error\n",
        "\n",
        "    x_train, x_test, y_train, y_test = subsets\n",
        "\n",
        "    clf.fit(x_train, y_train)\n",
        "    pred = clf.predict(x_test)\n",
        "\n",
        "    acc = accuracy_score(y_test,pred)\n",
        "    print(\"The accuracy of this model is: \", acc*100)\n",
        "\n",
        "    mse = mean_squared_error(y_test, pred)\n",
        "    print(\"The mean squared error of this model is: \", mse)"
      ],
      "metadata": {
        "id": "E4N-W5uNuIsf"
      },
      "execution_count": 54,
      "outputs": []
    },
    {
      "cell_type": "markdown",
      "source": [
        "Definição do modelo utilizando a biblioteca Sklearn - Classificador Árvore de Decisão"
      ],
      "metadata": {
        "id": "uKutkZOIzNWL"
      }
    },
    {
      "cell_type": "code",
      "source": [
        "from sklearn.tree import DecisionTreeClassifier\n",
        "\n",
        "def dt_classifier():\n",
        "\n",
        "    tree = DecisionTreeClassifier(criterion='gini', max_depth = 10, max_features= 'sqrt', min_samples_leaf = 1, min_samples_split = 10)\n",
        "\n",
        "    return tree"
      ],
      "metadata": {
        "id": "mt_-Q5ZoQhB9"
      },
      "execution_count": 20,
      "outputs": []
    },
    {
      "cell_type": "markdown",
      "source": [
        "A célula abaixo refere-se a uma divisão de dados para predição reduzida utilizando apenas o dataset treino, o repartindo em 4 subconjuntos"
      ],
      "metadata": {
        "id": "3GXzXHqmzkPx"
      }
    },
    {
      "cell_type": "code",
      "source": [
        "from sklearn.model_selection import train_test_split\n",
        "def artificial_split_data():\n",
        "    df = df_train.to_numpy()\n",
        "    X = df[:, 3:8]\n",
        "    y = df[:, 8:]\n",
        "    X_train, X_test, y_train, y_test = train_test_split(X, y, test_size=0.33, random_state=42)\n",
        "\n",
        "    X_train = X_train.astype('int')\n",
        "    X_test = X_test.astype('int')\n",
        "    y_train = y_train.astype('int')\n",
        "    y_test = y_test.astype('int')\n",
        "\n",
        "    return (X_train, X_test, y_train, y_test)\n",
        "\n",
        "tree_clf = dt_classifier()\n",
        "clf_compute_metrics(tree_clf, artificial_split_data())"
      ],
      "metadata": {
        "colab": {
          "base_uri": "https://localhost:8080/"
        },
        "id": "vu5WqD2T2ria",
        "outputId": "561fa96f-4450-4191-a6ee-139443d1e9ab"
      },
      "execution_count": 55,
      "outputs": [
        {
          "output_type": "stream",
          "name": "stdout",
          "text": [
            "The accuracy of this model is:  96.81962744207179\n",
            "The mean squared error of this model is:  0.009844010298349236\n"
          ]
        }
      ]
    },
    {
      "cell_type": "markdown",
      "source": [
        "Avaliação e evolução do modelo usando Cross-Validation"
      ],
      "metadata": {
        "id": "fahaMWhQ0Emq"
      }
    },
    {
      "cell_type": "code",
      "source": [
        "def model_evaluation(model):\n",
        "  from sklearn.model_selection import StratifiedKFold\n",
        "  kfold = StratifiedKFold(n_splits=50,\n",
        "                          shuffle=True,\n",
        "  random_state=1).split(x_train,\n",
        "  class_labels)\n",
        "  scores = []\n",
        "  for k, (train, test) in enumerate(kfold):\n",
        "    model.fit(x_train[train], y_train[train])\n",
        "    score = model.score(x_train[test], y_train[test])\n",
        "    scores.append(score) \n",
        "    print('Fold: %2d, Class dist.: %s, Acc: %.3f' % (k+1, np.bincount(class_labels[train]), score))\n",
        "  \n",
        "  print('\\nCV accuracy: %.3f +/- %.3f' % (np.mean(scores), np.std(scores)))\n",
        "    \n",
        "model_evaluation(tree_clf)"
      ],
      "metadata": {
        "colab": {
          "base_uri": "https://localhost:8080/"
        },
        "id": "onIljIHaFivs",
        "outputId": "f38cb390-f642-4836-bdc3-2c7c8377cd08"
      },
      "execution_count": 22,
      "outputs": [
        {
          "output_type": "stream",
          "name": "stderr",
          "text": [
            "/usr/local/lib/python3.8/dist-packages/sklearn/model_selection/_split.py:676: UserWarning: The least populated class in y has only 12 members, which is less than n_splits=50.\n",
            "  warnings.warn(\n"
          ]
        },
        {
          "output_type": "stream",
          "name": "stdout",
          "text": [
            "Fold:  1, Class dist.: [  73 6306   51   62   12   29], Acc: 0.993\n",
            "Fold:  2, Class dist.: [  73 6306   51   62   12   29], Acc: 0.970\n",
            "Fold:  3, Class dist.: [  73 6306   51   62   12   29], Acc: 0.978\n",
            "Fold:  4, Class dist.: [  73 6306   51   62   12   29], Acc: 0.963\n",
            "Fold:  5, Class dist.: [  73 6306   51   62   12   29], Acc: 0.978\n",
            "Fold:  6, Class dist.: [  73 6306   51   62   11   30], Acc: 0.963\n",
            "Fold:  7, Class dist.: [  73 6306   51   62   11   30], Acc: 0.970\n",
            "Fold:  8, Class dist.: [  73 6306   51   62   11   30], Acc: 0.963\n",
            "Fold:  9, Class dist.: [  73 6306   51   62   11   30], Acc: 0.978\n",
            "Fold: 10, Class dist.: [  73 6306   51   62   11   30], Acc: 0.948\n",
            "Fold: 11, Class dist.: [  73 6306   51   62   11   30], Acc: 0.978\n",
            "Fold: 12, Class dist.: [  73 6306   51   62   11   30], Acc: 0.963\n",
            "Fold: 13, Class dist.: [  73 6306   51   62   11   30], Acc: 0.963\n",
            "Fold: 14, Class dist.: [  73 6306   51   62   11   30], Acc: 0.978\n",
            "Fold: 15, Class dist.: [  73 6306   51   62   11   30], Acc: 0.978\n",
            "Fold: 16, Class dist.: [  73 6306   51   62   11   30], Acc: 0.955\n",
            "Fold: 17, Class dist.: [  73 6306   51   62   11   30], Acc: 0.985\n",
            "Fold: 18, Class dist.: [  73 6306   51   62   12   30], Acc: 0.962\n",
            "Fold: 19, Class dist.: [  73 6306   51   62   12   30], Acc: 0.970\n",
            "Fold: 20, Class dist.: [  73 6306   51   62   12   30], Acc: 0.992\n",
            "Fold: 21, Class dist.: [  73 6306   51   62   12   30], Acc: 0.977\n",
            "Fold: 22, Class dist.: [  73 6306   51   62   12   30], Acc: 0.977\n",
            "Fold: 23, Class dist.: [  73 6306   51   62   12   30], Acc: 0.992\n",
            "Fold: 24, Class dist.: [  73 6306   51   62   12   30], Acc: 0.977\n",
            "Fold: 25, Class dist.: [  73 6306   51   62   12   30], Acc: 0.962\n",
            "Fold: 26, Class dist.: [  74 6306   51   62   12   29], Acc: 0.955\n",
            "Fold: 27, Class dist.: [  74 6306   51   62   12   29], Acc: 0.970\n",
            "Fold: 28, Class dist.: [  74 6306   51   62   12   29], Acc: 0.985\n",
            "Fold: 29, Class dist.: [  74 6306   51   62   12   29], Acc: 0.977\n",
            "Fold: 30, Class dist.: [  74 6306   51   62   12   29], Acc: 0.992\n",
            "Fold: 31, Class dist.: [  74 6306   51   62   12   29], Acc: 0.962\n",
            "Fold: 32, Class dist.: [  74 6306   51   62   12   29], Acc: 0.955\n",
            "Fold: 33, Class dist.: [  74 6306   51   62   12   29], Acc: 0.985\n",
            "Fold: 34, Class dist.: [  74 6306   51   62   12   29], Acc: 0.947\n",
            "Fold: 35, Class dist.: [  74 6306   51   62   12   29], Acc: 0.947\n",
            "Fold: 36, Class dist.: [  74 6307   51   61   12   29], Acc: 0.962\n",
            "Fold: 37, Class dist.: [  74 6307   51   61   12   29], Acc: 0.977\n",
            "Fold: 38, Class dist.: [  74 6307   51   61   12   29], Acc: 0.985\n",
            "Fold: 39, Class dist.: [  74 6307   51   61   12   29], Acc: 0.977\n",
            "Fold: 40, Class dist.: [  74 6307   51   61   12   29], Acc: 0.962\n",
            "Fold: 41, Class dist.: [  74 6307   51   61   12   29], Acc: 0.962\n",
            "Fold: 42, Class dist.: [  74 6307   51   61   12   29], Acc: 0.985\n",
            "Fold: 43, Class dist.: [  74 6307   51   61   12   29], Acc: 0.955\n",
            "Fold: 44, Class dist.: [  74 6307   51   61   12   29], Acc: 0.977\n",
            "Fold: 45, Class dist.: [  74 6307   51   61   12   29], Acc: 0.970\n",
            "Fold: 46, Class dist.: [  74 6307   51   61   12   29], Acc: 0.962\n",
            "Fold: 47, Class dist.: [  74 6307   51   61   12   29], Acc: 0.977\n",
            "Fold: 48, Class dist.: [  74 6307   51   61   12   29], Acc: 0.962\n",
            "Fold: 49, Class dist.: [  74 6307   50   62   12   29], Acc: 0.962\n",
            "Fold: 50, Class dist.: [  74 6307   50   62   12   29], Acc: 0.955\n",
            "\n",
            "CV accuracy: 0.970 +/- 0.012\n"
          ]
        }
      ]
    },
    {
      "cell_type": "markdown",
      "source": [
        "\"Afinação\" de modelo usando GridSearch para tunar os hiperparâmetros  "
      ],
      "metadata": {
        "id": "JV5mCdST0RRB"
      }
    },
    {
      "cell_type": "code",
      "source": [
        "def tuning_hp(estimator):\n",
        "  from sklearn.model_selection import GridSearchCV\n",
        "  from sklearn.model_selection import RandomizedSearchCV\n",
        "\n",
        "  parameters = {'criterion':[\"gini\", \"entropy\"],\n",
        "            'max_depth': [10, 20, 30, 40, 50, 60, 70, 80, 90, 100, None],\n",
        "            'max_features': ['auto', 'sqrt'],\n",
        "            'min_samples_leaf': [1, 2, 4],\n",
        "            'min_samples_split': [2, 5, 10]}\n",
        "\n",
        "  gridsearch = GridSearchCV(estimator, param_grid=parameters, cv=10,\n",
        "                         scoring='accuracy', verbose=1)\n",
        "\n",
        "  gridsearch.fit(x_train, y_train)\n",
        "\n",
        "  print(gridsearch.best_params_)\n",
        "  print(gridsearch.best_score_)\n",
        "\n",
        "  #return gridsearch.best_params_\n",
        "\n",
        "tuning_hp(tree_clf)"
      ],
      "metadata": {
        "colab": {
          "base_uri": "https://localhost:8080/"
        },
        "id": "z01memYKKf8G",
        "outputId": "7c9de850-953d-4d79-d850-c47e9f9e83c4"
      },
      "execution_count": 11,
      "outputs": [
        {
          "output_type": "stream",
          "name": "stdout",
          "text": [
            "Fitting 10 folds for each of 396 candidates, totalling 3960 fits\n",
            "{'criterion': 'gini', 'max_depth': 10, 'max_features': 'sqrt', 'min_samples_leaf': 1, 'min_samples_split': 10}\n",
            "0.972103137620379\n"
          ]
        }
      ]
    },
    {
      "cell_type": "code",
      "source": [
        "import matplotlib.pyplot as plt\n",
        "from sklearn.model_selection import learning_curve\n",
        "\n",
        "train_sizes, train_scores, test_scores =\\\n",
        "learning_curve(estimator=tree_clf,\n",
        "X=x_train,\n",
        "y=y_train,\n",
        "train_sizes=np.linspace(\n",
        "0.1, 1.0, 10),\n",
        "cv=10,\n",
        "n_jobs=1)\n",
        "\n",
        "train_mean = np.mean(train_scores, axis=1)\n",
        "train_std = np.std(train_scores, axis=1)\n",
        "test_mean = np.mean(test_scores, axis=1)\n",
        "test_std = np.std(test_scores, axis=1)\n",
        "\n",
        "plt.plot(train_sizes, train_mean, color='blue', marker='o',markersize=5, label='training accuracy')\n",
        "\n",
        "plt.fill_between(train_sizes,\n",
        "train_mean + train_std,\n",
        "train_mean - train_std,\n",
        "alpha=0.15, color='blue')\n",
        "plt.plot(train_sizes, test_mean,\n",
        "color='green', linestyle='--',\n",
        "marker='s', markersize=5,\n",
        "label='validation accuracy')\n",
        "plt.fill_between(train_sizes,\n",
        "test_mean + test_std,\n",
        "test_mean - test_std,\n",
        "alpha=0.15, color='green')\n",
        "plt.grid()\n",
        "plt.xlabel('Number of training samples')\n",
        "plt.ylabel('Accuracy')\n",
        "plt.legend(loc='lower right')\n",
        "plt.ylim([0.8, 1.0])\n",
        "plt.show()"
      ],
      "metadata": {
        "colab": {
          "base_uri": "https://localhost:8080/",
          "height": 283
        },
        "id": "v_0UzUgJnVHN",
        "outputId": "d0996e8a-5269-4f6b-a481-199795ba16d1"
      },
      "execution_count": 26,
      "outputs": [
        {
          "output_type": "display_data",
          "data": {
            "text/plain": [
              "<Figure size 432x288 with 1 Axes>"
            ],
            "image/png": "[encoded data removed]"
          },
          "metadata": {
            "needs_background": "light"
          }
        }
      ]
    },
    {
      "cell_type": "code",
      "source": [
        "from sklearn.model_selection import validation_curve\n",
        "param_range = [1.0, 10.0, 100.0, 1000.00]\n",
        "train_scores, test_scores = validation_curve(\n",
        "estimator=tree_clf,\n",
        "X=x_train,\n",
        "y=y_train,\n",
        "param_name='max_depth',\n",
        "param_range=param_range,\n",
        "cv=10)\n",
        "train_mean = np.mean(train_scores, axis=1)\n",
        "train_std = np.std(train_scores, axis=1)\n",
        "test_mean = np.mean(test_scores, axis=1)\n",
        "test_std = np.std(test_scores, axis=1)\n",
        "\n",
        "plt.plot(param_range, train_mean,color='blue', marker='o',markersize=5, label='training accuracy')\n",
        "\n",
        "plt.fill_between(param_range, train_mean + train_std,\n",
        "train_mean - train_std, alpha=0.15,\n",
        "color='blue')\n",
        "plt.plot(param_range, test_mean,\n",
        "color='green', linestyle='--',\n",
        "marker='s', markersize=5,\n",
        "label='validation accuracy')\n",
        "plt.fill_between(param_range,\n",
        "test_mean + test_std,\n",
        "test_mean - test_std,\n",
        "alpha=0.15, color='green')\n",
        "plt.grid()\n",
        "plt.xscale('log')\n",
        "plt.legend(loc='lower right')\n",
        "plt.xlabel('Max Depth')\n",
        "plt.ylabel('Accuracy')\n",
        "plt.ylim([0.8, 1.03])\n",
        "plt.show()"
      ],
      "metadata": {
        "colab": {
          "base_uri": "https://localhost:8080/",
          "height": 283
        },
        "id": "h_aY6ERkoc_B",
        "outputId": "ec6243ed-fecf-4367-9943-fffad0ba742b"
      },
      "execution_count": 29,
      "outputs": [
        {
          "output_type": "display_data",
          "data": {
            "text/plain": [
              "<Figure size 432x288 with 1 Axes>"
            ],
            "image/png": "[encoded data removed]"
          },
          "metadata": {
            "needs_background": "light"
          }
        }
      ]
    },
    {
      "cell_type": "code",
      "source": [
        "tree_clf.fit(x_train, y_train)\n",
        "pred = tree_clf.predict(x_test)\n",
        "\n",
        "print(x_train)\n",
        "print(y_train)\n",
        "\n",
        "id = df_test['udi']\n",
        "prod_id = df_test['product_id']\n",
        "pred = pd.DataFrame(pred)\n",
        "x_test = pd.DataFrame(x_test)\n",
        "\n",
        "pred.rename(columns={0:\"Heat Dissipation Failure\", 1:\"No Failure\", 2:\"Overstrain Failure\", 3:\"Power Failure\", 4:\"Random Failures\", 5:\"Tool Wear Failure\"}, inplace=True)\n",
        "x_test.rename(columns={0:\"air_temperature_k\", 1:\"process_temperature_k\", 2:\"rotational_speed_rpm\", 3:\"torque_nm\", 4:\"tool_wear_min\"}, inplace=True)\n",
        "\n",
        "predicts = pd.concat([id, prod_id, x_test, pred], axis='columns')\n",
        "\n",
        "predicts.to_csv('predicts_h1.csv', index=False)"
      ],
      "metadata": {
        "colab": {
          "base_uri": "https://localhost:8080/"
        },
        "id": "_O07ihA2qW1H",
        "outputId": "d23bd469-456a-4564-deca-91812396cbbe"
      },
      "execution_count": 85,
      "outputs": [
        {
          "output_type": "stream",
          "name": "stdout",
          "text": [
            "[[ 300  310 1455   40  172]\n",
            " [ 298  309 1417   41  155]\n",
            " [ 297  308 1596   37   30]\n",
            " ...\n",
            " [ 299  310 1534   37   10]\n",
            " [ 301  311 1522   35   63]\n",
            " [ 299  309 1511   47  148]]\n",
            "[[0 1 0 0 0 0]\n",
            " [0 1 0 0 0 0]\n",
            " [0 1 0 0 0 0]\n",
            " ...\n",
            " [0 1 0 0 0 0]\n",
            " [0 1 0 0 0 0]\n",
            " [0 1 0 0 0 0]]\n"
          ]
        },
        {
          "output_type": "stream",
          "name": "stderr",
          "text": [
            "/usr/local/lib/python3.8/dist-packages/sklearn/base.py:443: UserWarning: X has feature names, but DecisionTreeClassifier was fitted without feature names\n",
            "  warnings.warn(\n"
          ]
        }
      ]
    },
    {
      "cell_type": "code",
      "source": [
        "df = pd.read_csv(\"predicts_h1.csv\")\n",
        "df.head()"
      ],
      "metadata": {
        "colab": {
          "base_uri": "https://localhost:8080/",
          "height": 305
        },
        "id": "D0c_TMWYBDHv",
        "outputId": "87aded6e-4d5a-4892-ef65-298ee732052c"
      },
      "execution_count": 88,
      "outputs": [
        {
          "output_type": "execute_result",
          "data": {
            "text/plain": [
              "    udi product_id  air_temperature_k  process_temperature_k  \\\n",
              "0   446     L47625                297                    308   \n",
              "1  7076     L54255                300                    310   \n",
              "2  1191     L48370                297                    308   \n",
              "3  2618     L49797                299                    309   \n",
              "4  5067     L52246                304                    313   \n",
              "\n",
              "   rotational_speed_rpm  torque_nm  tool_wear_min  Heat Dissipation Failure  \\\n",
              "0                  1793         26             70                         0   \n",
              "1                  1536         47            192                         0   \n",
              "2                  1460         42             41                         0   \n",
              "3                  1670         35             68                         0   \n",
              "4                  1550         30              9                         0   \n",
              "\n",
              "   No Failure  Overstrain Failure  Power Failure  Random Failures  \\\n",
              "0           1                   0              0                0   \n",
              "1           1                   0              0                0   \n",
              "2           1                   0              0                0   \n",
              "3           1                   0              0                0   \n",
              "4           1                   0              0                0   \n",
              "\n",
              "   Tool Wear Failure  \n",
              "0                  0  \n",
              "1                  0  \n",
              "2                  0  \n",
              "3                  0  \n",
              "4                  0  "
            ],
            "text/html": [
              "\n",
              "  <div id=\"df-0a7336ba-7556-4da2-8608-752c3ed35b58\">\n",
              "    <div class=\"colab-df-container\">\n",
              "      <div>\n",
              "<style scoped>\n",
              "    .dataframe tbody tr th:only-of-type {\n",
              "        vertical-align: middle;\n",
              "    }\n",
              "\n",
              "    .dataframe tbody tr th {\n",
              "        vertical-align: top;\n",
              "    }\n",
              "\n",
              "    .dataframe thead th {\n",
              "        text-align: right;\n",
              "    }\n",
              "</style>\n",
              "<table border=\"1\" class=\"dataframe\">\n",
              "  <thead>\n",
              "    <tr style=\"text-align: right;\">\n",
              "      <th></th>\n",
              "      <th>udi</th>\n",
              "      <th>product_id</th>\n",
              "      <th>air_temperature_k</th>\n",
              "      <th>process_temperature_k</th>\n",
              "      <th>rotational_speed_rpm</th>\n",
              "      <th>torque_nm</th>\n",
              "      <th>tool_wear_min</th>\n",
              "      <th>Heat Dissipation Failure</th>\n",
              "      <th>No Failure</th>\n",
              "      <th>Overstrain Failure</th>\n",
              "      <th>Power Failure</th>\n",
              "      <th>Random Failures</th>\n",
              "      <th>Tool Wear Failure</th>\n",
              "    </tr>\n",
              "  </thead>\n",
              "  <tbody>\n",
              "    <tr>\n",
              "      <th>0</th>\n",
              "      <td>446</td>\n",
              "      <td>L47625</td>\n",
              "      <td>297</td>\n",
              "      <td>308</td>\n",
              "      <td>1793</td>\n",
              "      <td>26</td>\n",
              "      <td>70</td>\n",
              "      <td>0</td>\n",
              "      <td>1</td>\n",
              "      <td>0</td>\n",
              "      <td>0</td>\n",
              "      <td>0</td>\n",
              "      <td>0</td>\n",
              "    </tr>\n",
              "    <tr>\n",
              "      <th>1</th>\n",
              "      <td>7076</td>\n",
              "      <td>L54255</td>\n",
              "      <td>300</td>\n",
              "      <td>310</td>\n",
              "      <td>1536</td>\n",
              "      <td>47</td>\n",
              "      <td>192</td>\n",
              "      <td>0</td>\n",
              "      <td>1</td>\n",
              "      <td>0</td>\n",
              "      <td>0</td>\n",
              "      <td>0</td>\n",
              "      <td>0</td>\n",
              "    </tr>\n",
              "    <tr>\n",
              "      <th>2</th>\n",
              "      <td>1191</td>\n",
              "      <td>L48370</td>\n",
              "      <td>297</td>\n",
              "      <td>308</td>\n",
              "      <td>1460</td>\n",
              "      <td>42</td>\n",
              "      <td>41</td>\n",
              "      <td>0</td>\n",
              "      <td>1</td>\n",
              "      <td>0</td>\n",
              "      <td>0</td>\n",
              "      <td>0</td>\n",
              "      <td>0</td>\n",
              "    </tr>\n",
              "    <tr>\n",
              "      <th>3</th>\n",
              "      <td>2618</td>\n",
              "      <td>L49797</td>\n",
              "      <td>299</td>\n",
              "      <td>309</td>\n",
              "      <td>1670</td>\n",
              "      <td>35</td>\n",
              "      <td>68</td>\n",
              "      <td>0</td>\n",
              "      <td>1</td>\n",
              "      <td>0</td>\n",
              "      <td>0</td>\n",
              "      <td>0</td>\n",
              "      <td>0</td>\n",
              "    </tr>\n",
              "    <tr>\n",
              "      <th>4</th>\n",
              "      <td>5067</td>\n",
              "      <td>L52246</td>\n",
              "      <td>304</td>\n",
              "      <td>313</td>\n",
              "      <td>1550</td>\n",
              "      <td>30</td>\n",
              "      <td>9</td>\n",
              "      <td>0</td>\n",
              "      <td>1</td>\n",
              "      <td>0</td>\n",
              "      <td>0</td>\n",
              "      <td>0</td>\n",
              "      <td>0</td>\n",
              "    </tr>\n",
              "  </tbody>\n",
              "</table>\n",
              "</div>\n",
              "      <button class=\"colab-df-convert\" onclick=\"convertToInteractive('df-0a7336ba-7556-4da2-8608-752c3ed35b58')\"\n",
              "              title=\"Convert this dataframe to an interactive table.\"\n",
              "              style=\"display:none;\">\n",
              "        \n",
              "  <svg xmlns=\"http://www.w3.org/2000/svg\" height=\"24px\"viewBox=\"0 0 24 24\"\n",
              "       width=\"24px\">\n",
              "    <path d=\"M0 0h24v24H0V0z\" fill=\"none\"/>\n",
              "    <path d=\"M18.56 5.44l.94 2.06.94-2.06 2.06-.94-2.06-.94-.94-2.06-.94 2.06-2.06.94zm-11 1L8.5 8.5l.94-2.06 2.06-.94-2.06-.94L8.5 2.5l-.94 2.06-2.06.94zm10 10l.94 2.06.94-2.06 2.06-.94-2.06-.94-.94-2.06-.94 2.06-2.06.94z\"/><path d=\"M17.41 7.96l-1.37-1.37c-.4-.4-.92-.59-1.43-.59-.52 0-1.04.2-1.43.59L10.3 9.45l-7.72 7.72c-.78.78-.78 2.05 0 2.83L4 21.41c.39.39.9.59 1.41.59.51 0 1.02-.2 1.41-.59l7.78-7.78 2.81-2.81c.8-.78.8-2.07 0-2.86zM5.41 20L4 18.59l7.72-7.72 1.47 1.35L5.41 20z\"/>\n",
              "  </svg>\n",
              "      </button>\n",
              "      \n",
              "  <style>\n",
              "    .colab-df-container {\n",
              "      display:flex;\n",
              "      flex-wrap:wrap;\n",
              "      gap: 12px;\n",
              "    }\n",
              "\n",
              "    .colab-df-convert {\n",
              "      background-color: #E8F0FE;\n",
              "      border: none;\n",
              "      border-radius: 50%;\n",
              "      cursor: pointer;\n",
              "      display: none;\n",
              "      fill: #1967D2;\n",
              "      height: 32px;\n",
              "      padding: 0 0 0 0;\n",
              "      width: 32px;\n",
              "    }\n",
              "\n",
              "    .colab-df-convert:hover {\n",
              "      background-color: #E2EBFA;\n",
              "      box-shadow: 0px 1px 2px rgba(60, 64, 67, 0.3), 0px 1px 3px 1px rgba(60, 64, 67, 0.15);\n",
              "      fill: #174EA6;\n",
              "    }\n",
              "\n",
              "    [theme=dark] .colab-df-convert {\n",
              "      background-color: #3B4455;\n",
              "      fill: #D2E3FC;\n",
              "    }\n",
              "\n",
              "    [theme=dark] .colab-df-convert:hover {\n",
              "      background-color: #434B5C;\n",
              "      box-shadow: 0px 1px 3px 1px rgba(0, 0, 0, 0.15);\n",
              "      filter: drop-shadow(0px 1px 2px rgba(0, 0, 0, 0.3));\n",
              "      fill: #FFFFFF;\n",
              "    }\n",
              "  </style>\n",
              "\n",
              "      <script>\n",
              "        const buttonEl =\n",
              "          document.querySelector('#df-0a7336ba-7556-4da2-8608-752c3ed35b58 button.colab-df-convert');\n",
              "        buttonEl.style.display =\n",
              "          google.colab.kernel.accessAllowed ? 'block' : 'none';\n",
              "\n",
              "        async function convertToInteractive(key) {\n",
              "          const element = document.querySelector('#df-0a7336ba-7556-4da2-8608-752c3ed35b58');\n",
              "          const dataTable =\n",
              "            await google.colab.kernel.invokeFunction('convertToInteractive',\n",
              "                                                     [key], {});\n",
              "          if (!dataTable) return;\n",
              "\n",
              "          const docLinkHtml = 'Like what you see? Visit the ' +\n",
              "            '<a target=\"_blank\" href=https://colab.research.google.com/notebooks/data_table.ipynb>data table notebook</a>'\n",
              "            + ' to learn more about interactive tables.';\n",
              "          element.innerHTML = '';\n",
              "          dataTable['output_type'] = 'display_data';\n",
              "          await google.colab.output.renderOutput(dataTable, element);\n",
              "          const docLink = document.createElement('div');\n",
              "          docLink.innerHTML = docLinkHtml;\n",
              "          element.appendChild(docLink);\n",
              "        }\n",
              "      </script>\n",
              "    </div>\n",
              "  </div>\n",
              "  "
            ]
          },
          "metadata": {},
          "execution_count": 88
        }
      ]
    }
  ]
}